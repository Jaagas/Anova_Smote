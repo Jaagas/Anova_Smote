{
 "cells": [
  {
   "cell_type": "code",
   "execution_count": 1,
   "metadata": {},
   "outputs": [],
   "source": [
    "import os\n",
    "import sys\n",
    "import sklearn\n",
    "import warnings\n",
    "import numpy as np\n",
    "import pandas as pd\n",
    "import seaborn as sns\n",
    "import plotly.express as px\n",
    "import matplotlib.pyplot as plt\n",
    "from sklearn.svm import SVC\n",
    "from scipy import stats\n",
    "from random import seed\n",
    "from sklearn.feature_selection import RFE\n",
    "from sklearn.pipeline import make_pipeline\n",
    "from sklearn.preprocessing import MinMaxScaler,LabelEncoder,StandardScaler,PolynomialFeatures,scale\n",
    "from sklearn.linear_model import LinearRegression,LogisticRegression\n",
    "from sklearn.model_selection import cross_val_score,train_test_split,KFold,GridSearchCV\n",
    "from sklearn.base import BaseEstimator,ClassifierMixin\n",
    "from sklearn.metrics import accuracy_score,confusion_matrix,precision_score,classification_report,roc_auc_score,roc_curve,auc,r2_score,mean_squared_error\n",
    "warnings.filterwarnings('ignore')\n",
    "%matplotlib inline"
   ]
  },
  {
   "cell_type": "code",
   "execution_count": 2,
   "metadata": {},
   "outputs": [
    {
     "data": {
      "text/html": [
       "<div>\n",
       "<style scoped>\n",
       "    .dataframe tbody tr th:only-of-type {\n",
       "        vertical-align: middle;\n",
       "    }\n",
       "\n",
       "    .dataframe tbody tr th {\n",
       "        vertical-align: top;\n",
       "    }\n",
       "\n",
       "    .dataframe thead th {\n",
       "        text-align: right;\n",
       "    }\n",
       "</style>\n",
       "<table border=\"1\" class=\"dataframe\">\n",
       "  <thead>\n",
       "    <tr style=\"text-align: right;\">\n",
       "      <th></th>\n",
       "      <th>status</th>\n",
       "      <th>duration</th>\n",
       "      <th>credit_history</th>\n",
       "      <th>purpose</th>\n",
       "      <th>amount</th>\n",
       "      <th>savings</th>\n",
       "      <th>employment_duration</th>\n",
       "      <th>installment_rate</th>\n",
       "      <th>personal_status_sex</th>\n",
       "      <th>other_debtors</th>\n",
       "      <th>...</th>\n",
       "      <th>property</th>\n",
       "      <th>age</th>\n",
       "      <th>other_installment_plans</th>\n",
       "      <th>housing</th>\n",
       "      <th>number_credits</th>\n",
       "      <th>job</th>\n",
       "      <th>people_liable</th>\n",
       "      <th>telephone</th>\n",
       "      <th>foreign_worker</th>\n",
       "      <th>credit_risk</th>\n",
       "    </tr>\n",
       "  </thead>\n",
       "  <tbody>\n",
       "    <tr>\n",
       "      <th>0</th>\n",
       "      <td>no checking account</td>\n",
       "      <td>18</td>\n",
       "      <td>all credits at this bank paid back duly</td>\n",
       "      <td>car (used)</td>\n",
       "      <td>1049</td>\n",
       "      <td>unknown/no savings account</td>\n",
       "      <td>&lt; 1 yr</td>\n",
       "      <td>&lt; 20</td>\n",
       "      <td>female : non-single or male : single</td>\n",
       "      <td>none</td>\n",
       "      <td>...</td>\n",
       "      <td>car or other</td>\n",
       "      <td>21</td>\n",
       "      <td>none</td>\n",
       "      <td>for free</td>\n",
       "      <td>1</td>\n",
       "      <td>skilled employee/official</td>\n",
       "      <td>0 to 2</td>\n",
       "      <td>no</td>\n",
       "      <td>no</td>\n",
       "      <td>good</td>\n",
       "    </tr>\n",
       "    <tr>\n",
       "      <th>1</th>\n",
       "      <td>no checking account</td>\n",
       "      <td>9</td>\n",
       "      <td>all credits at this bank paid back duly</td>\n",
       "      <td>others</td>\n",
       "      <td>2799</td>\n",
       "      <td>unknown/no savings account</td>\n",
       "      <td>1 &lt;= ... &lt; 4 yrs</td>\n",
       "      <td>25 &lt;= ... &lt; 35</td>\n",
       "      <td>male : married/widowed</td>\n",
       "      <td>none</td>\n",
       "      <td>...</td>\n",
       "      <td>unknown / no property</td>\n",
       "      <td>36</td>\n",
       "      <td>none</td>\n",
       "      <td>for free</td>\n",
       "      <td>3-Feb</td>\n",
       "      <td>skilled employee/official</td>\n",
       "      <td>3 or more</td>\n",
       "      <td>no</td>\n",
       "      <td>no</td>\n",
       "      <td>good</td>\n",
       "    </tr>\n",
       "    <tr>\n",
       "      <th>2</th>\n",
       "      <td>... &lt; 0 DM</td>\n",
       "      <td>12</td>\n",
       "      <td>no credits taken/all credits paid back duly</td>\n",
       "      <td>retraining</td>\n",
       "      <td>841</td>\n",
       "      <td>... &lt;  100 DM</td>\n",
       "      <td>4 &lt;= ... &lt; 7 yrs</td>\n",
       "      <td>25 &lt;= ... &lt; 35</td>\n",
       "      <td>female : non-single or male : single</td>\n",
       "      <td>none</td>\n",
       "      <td>...</td>\n",
       "      <td>unknown / no property</td>\n",
       "      <td>23</td>\n",
       "      <td>none</td>\n",
       "      <td>for free</td>\n",
       "      <td>1</td>\n",
       "      <td>unskilled - resident</td>\n",
       "      <td>0 to 2</td>\n",
       "      <td>no</td>\n",
       "      <td>no</td>\n",
       "      <td>good</td>\n",
       "    </tr>\n",
       "    <tr>\n",
       "      <th>3</th>\n",
       "      <td>no checking account</td>\n",
       "      <td>12</td>\n",
       "      <td>all credits at this bank paid back duly</td>\n",
       "      <td>others</td>\n",
       "      <td>2122</td>\n",
       "      <td>unknown/no savings account</td>\n",
       "      <td>1 &lt;= ... &lt; 4 yrs</td>\n",
       "      <td>20 &lt;= ... &lt; 25</td>\n",
       "      <td>male : married/widowed</td>\n",
       "      <td>none</td>\n",
       "      <td>...</td>\n",
       "      <td>unknown / no property</td>\n",
       "      <td>39</td>\n",
       "      <td>none</td>\n",
       "      <td>for free</td>\n",
       "      <td>3-Feb</td>\n",
       "      <td>unskilled - resident</td>\n",
       "      <td>3 or more</td>\n",
       "      <td>no</td>\n",
       "      <td>yes</td>\n",
       "      <td>good</td>\n",
       "    </tr>\n",
       "    <tr>\n",
       "      <th>4</th>\n",
       "      <td>no checking account</td>\n",
       "      <td>12</td>\n",
       "      <td>all credits at this bank paid back duly</td>\n",
       "      <td>others</td>\n",
       "      <td>2171</td>\n",
       "      <td>unknown/no savings account</td>\n",
       "      <td>1 &lt;= ... &lt; 4 yrs</td>\n",
       "      <td>&lt; 20</td>\n",
       "      <td>male : married/widowed</td>\n",
       "      <td>none</td>\n",
       "      <td>...</td>\n",
       "      <td>car or other</td>\n",
       "      <td>38</td>\n",
       "      <td>bank</td>\n",
       "      <td>rent</td>\n",
       "      <td>3-Feb</td>\n",
       "      <td>unskilled - resident</td>\n",
       "      <td>0 to 2</td>\n",
       "      <td>no</td>\n",
       "      <td>yes</td>\n",
       "      <td>good</td>\n",
       "    </tr>\n",
       "  </tbody>\n",
       "</table>\n",
       "<p>5 rows × 21 columns</p>\n",
       "</div>"
      ],
      "text/plain": [
       "                status  duration                               credit_history  \\\n",
       "0  no checking account        18      all credits at this bank paid back duly   \n",
       "1  no checking account         9      all credits at this bank paid back duly   \n",
       "2           ... < 0 DM        12  no credits taken/all credits paid back duly   \n",
       "3  no checking account        12      all credits at this bank paid back duly   \n",
       "4  no checking account        12      all credits at this bank paid back duly   \n",
       "\n",
       "      purpose  amount                     savings employment_duration  \\\n",
       "0  car (used)    1049  unknown/no savings account              < 1 yr   \n",
       "1      others    2799  unknown/no savings account    1 <= ... < 4 yrs   \n",
       "2  retraining     841               ... <  100 DM    4 <= ... < 7 yrs   \n",
       "3      others    2122  unknown/no savings account    1 <= ... < 4 yrs   \n",
       "4      others    2171  unknown/no savings account    1 <= ... < 4 yrs   \n",
       "\n",
       "  installment_rate                   personal_status_sex other_debtors  ...  \\\n",
       "0             < 20  female : non-single or male : single          none  ...   \n",
       "1   25 <= ... < 35                male : married/widowed          none  ...   \n",
       "2   25 <= ... < 35  female : non-single or male : single          none  ...   \n",
       "3   20 <= ... < 25                male : married/widowed          none  ...   \n",
       "4             < 20                male : married/widowed          none  ...   \n",
       "\n",
       "                property age  other_installment_plans   housing  \\\n",
       "0           car or other  21                     none  for free   \n",
       "1  unknown / no property  36                     none  for free   \n",
       "2  unknown / no property  23                     none  for free   \n",
       "3  unknown / no property  39                     none  for free   \n",
       "4           car or other  38                     bank      rent   \n",
       "\n",
       "  number_credits                        job people_liable telephone  \\\n",
       "0              1  skilled employee/official        0 to 2        no   \n",
       "1          3-Feb  skilled employee/official     3 or more        no   \n",
       "2              1       unskilled - resident        0 to 2        no   \n",
       "3          3-Feb       unskilled - resident     3 or more        no   \n",
       "4          3-Feb       unskilled - resident        0 to 2        no   \n",
       "\n",
       "  foreign_worker credit_risk  \n",
       "0             no        good  \n",
       "1             no        good  \n",
       "2             no        good  \n",
       "3            yes        good  \n",
       "4            yes        good  \n",
       "\n",
       "[5 rows x 21 columns]"
      ]
     },
     "execution_count": 2,
     "metadata": {},
     "output_type": "execute_result"
    }
   ],
   "source": [
    "df = pd.read_csv('german_credit.csv')\n",
    "df.head()"
   ]
  },
  {
   "cell_type": "code",
   "execution_count": 3,
   "metadata": {},
   "outputs": [
    {
     "data": {
      "text/plain": [
       "good    700\n",
       "bad     300\n",
       "Name: credit_risk, dtype: int64"
      ]
     },
     "execution_count": 3,
     "metadata": {},
     "output_type": "execute_result"
    }
   ],
   "source": [
    "df[\"credit_risk\"].value_counts()"
   ]
  },
  {
   "attachments": {},
   "cell_type": "markdown",
   "metadata": {},
   "source": [
    "Verilənlər bazası \"pis\" dəyərlərdən daha çox \"yaxşı\" dəyərlərə (credit_risk sütunu) sahib olduğu üçün balanssızdır. Bu balanssızlıq zəif proqnozlar verməyimizə səbəb ola bilər."
   ]
  },
  {
   "attachments": {},
   "cell_type": "markdown",
   "metadata": {},
   "source": [
    "## Data Cleaning and Preparation"
   ]
  },
  {
   "cell_type": "code",
   "execution_count": 4,
   "metadata": {},
   "outputs": [
    {
     "data": {
      "text/plain": [
       "False    1000\n",
       "dtype: int64"
      ]
     },
     "execution_count": 4,
     "metadata": {},
     "output_type": "execute_result"
    }
   ],
   "source": [
    "df.duplicated().value_counts() # Məlumat dəstində təkrarlanan bir dəyər yoxdur."
   ]
  },
  {
   "cell_type": "code",
   "execution_count": 5,
   "metadata": {},
   "outputs": [
    {
     "data": {
      "text/plain": [
       "status                     0\n",
       "duration                   0\n",
       "credit_history             0\n",
       "purpose                    0\n",
       "amount                     0\n",
       "savings                    0\n",
       "employment_duration        0\n",
       "installment_rate           0\n",
       "personal_status_sex        0\n",
       "other_debtors              0\n",
       "present_residence          0\n",
       "property                   0\n",
       "age                        0\n",
       "other_installment_plans    0\n",
       "housing                    0\n",
       "number_credits             0\n",
       "job                        0\n",
       "people_liable              0\n",
       "telephone                  0\n",
       "foreign_worker             0\n",
       "credit_risk                0\n",
       "dtype: int64"
      ]
     },
     "execution_count": 5,
     "metadata": {},
     "output_type": "execute_result"
    }
   ],
   "source": [
    "df.isna().sum() # Məlumat dəstində sıfır dəyərlər yoxdur"
   ]
  },
  {
   "cell_type": "code",
   "execution_count": 6,
   "metadata": {},
   "outputs": [
    {
     "data": {
      "text/plain": [
       "Index(['status', 'duration', 'credit_history', 'purpose', 'amount', 'savings',\n",
       "       'employment_duration', 'installment_rate', 'personal_status_sex',\n",
       "       'other_debtors', 'present_residence', 'property', 'age',\n",
       "       'other_installment_plans', 'housing', 'number_credits', 'job',\n",
       "       'people_liable', 'telephone', 'foreign_worker', 'credit_risk'],\n",
       "      dtype='object')"
      ]
     },
     "execution_count": 6,
     "metadata": {},
     "output_type": "execute_result"
    }
   ],
   "source": [
    "df.columns"
   ]
  },
  {
   "cell_type": "code",
   "execution_count": 7,
   "metadata": {},
   "outputs": [
    {
     "name": "stdout",
     "output_type": "stream",
     "text": [
      "<class 'pandas.core.frame.DataFrame'>\n",
      "RangeIndex: 1000 entries, 0 to 999\n",
      "Data columns (total 21 columns):\n",
      " #   Column                   Non-Null Count  Dtype \n",
      "---  ------                   --------------  ----- \n",
      " 0   status                   1000 non-null   object\n",
      " 1   duration                 1000 non-null   int64 \n",
      " 2   credit_history           1000 non-null   object\n",
      " 3   purpose                  1000 non-null   object\n",
      " 4   amount                   1000 non-null   int64 \n",
      " 5   savings                  1000 non-null   object\n",
      " 6   employment_duration      1000 non-null   object\n",
      " 7   installment_rate         1000 non-null   object\n",
      " 8   personal_status_sex      1000 non-null   object\n",
      " 9   other_debtors            1000 non-null   object\n",
      " 10  present_residence        1000 non-null   object\n",
      " 11  property                 1000 non-null   object\n",
      " 12  age                      1000 non-null   int64 \n",
      " 13  other_installment_plans  1000 non-null   object\n",
      " 14  housing                  1000 non-null   object\n",
      " 15  number_credits           1000 non-null   object\n",
      " 16  job                      1000 non-null   object\n",
      " 17  people_liable            1000 non-null   object\n",
      " 18  telephone                1000 non-null   object\n",
      " 19  foreign_worker           1000 non-null   object\n",
      " 20  credit_risk              1000 non-null   object\n",
      "dtypes: int64(3), object(18)\n",
      "memory usage: 164.2+ KB\n"
     ]
    }
   ],
   "source": [
    "df.info()"
   ]
  },
  {
   "attachments": {},
   "cell_type": "markdown",
   "metadata": {},
   "source": [
    "Bu məlumat dəstinin əksəriyyəti kategorik dəyərlərdən ibarətdir və kredit riskini proqnozlaşdırmaq üçün bəzi təsnifat modellərindən istifadə etməyi planlaşdırıram. Beləliklə, kategorik olmayan bəzi dəyişənləri silməli olacağam və sonra LabelEncoder()istifadə edərək etiketlərə çevirəcəyəm:"
   ]
  },
  {
   "cell_type": "code",
   "execution_count": 8,
   "metadata": {},
   "outputs": [
    {
     "data": {
      "text/plain": [
       "Index(['status', 'credit_history', 'purpose', 'savings', 'employment_duration',\n",
       "       'installment_rate', 'personal_status_sex', 'other_debtors',\n",
       "       'present_residence', 'property', 'other_installment_plans', 'housing',\n",
       "       'number_credits', 'job', 'people_liable', 'telephone', 'foreign_worker',\n",
       "       'credit_risk'],\n",
       "      dtype='object')"
      ]
     },
     "execution_count": 8,
     "metadata": {},
     "output_type": "execute_result"
    }
   ],
   "source": [
    "int_col = df[[\"duration\", \"amount\", \"age\"]]\n",
    "dataset = df.drop(['duration','amount','age'],1)\n",
    "dataset.columns"
   ]
  },
  {
   "cell_type": "code",
   "execution_count": 9,
   "metadata": {},
   "outputs": [
    {
     "data": {
      "text/html": [
       "<div>\n",
       "<style scoped>\n",
       "    .dataframe tbody tr th:only-of-type {\n",
       "        vertical-align: middle;\n",
       "    }\n",
       "\n",
       "    .dataframe tbody tr th {\n",
       "        vertical-align: top;\n",
       "    }\n",
       "\n",
       "    .dataframe thead th {\n",
       "        text-align: right;\n",
       "    }\n",
       "</style>\n",
       "<table border=\"1\" class=\"dataframe\">\n",
       "  <thead>\n",
       "    <tr style=\"text-align: right;\">\n",
       "      <th></th>\n",
       "      <th>status</th>\n",
       "      <th>credit_history</th>\n",
       "      <th>purpose</th>\n",
       "      <th>savings</th>\n",
       "      <th>employment_duration</th>\n",
       "      <th>installment_rate</th>\n",
       "      <th>personal_status_sex</th>\n",
       "      <th>other_debtors</th>\n",
       "      <th>present_residence</th>\n",
       "      <th>property</th>\n",
       "      <th>other_installment_plans</th>\n",
       "      <th>housing</th>\n",
       "      <th>number_credits</th>\n",
       "      <th>job</th>\n",
       "      <th>people_liable</th>\n",
       "      <th>telephone</th>\n",
       "      <th>foreign_worker</th>\n",
       "      <th>credit_risk</th>\n",
       "    </tr>\n",
       "  </thead>\n",
       "  <tbody>\n",
       "    <tr>\n",
       "      <th>0</th>\n",
       "      <td>3</td>\n",
       "      <td>0</td>\n",
       "      <td>2</td>\n",
       "      <td>4</td>\n",
       "      <td>2</td>\n",
       "      <td>2</td>\n",
       "      <td>0</td>\n",
       "      <td>2</td>\n",
       "      <td>3</td>\n",
       "      <td>1</td>\n",
       "      <td>1</td>\n",
       "      <td>0</td>\n",
       "      <td>0</td>\n",
       "      <td>1</td>\n",
       "      <td>0</td>\n",
       "      <td>0</td>\n",
       "      <td>0</td>\n",
       "      <td>1</td>\n",
       "    </tr>\n",
       "    <tr>\n",
       "      <th>1</th>\n",
       "      <td>3</td>\n",
       "      <td>0</td>\n",
       "      <td>5</td>\n",
       "      <td>4</td>\n",
       "      <td>0</td>\n",
       "      <td>1</td>\n",
       "      <td>3</td>\n",
       "      <td>2</td>\n",
       "      <td>0</td>\n",
       "      <td>3</td>\n",
       "      <td>1</td>\n",
       "      <td>0</td>\n",
       "      <td>1</td>\n",
       "      <td>1</td>\n",
       "      <td>1</td>\n",
       "      <td>0</td>\n",
       "      <td>0</td>\n",
       "      <td>1</td>\n",
       "    </tr>\n",
       "    <tr>\n",
       "      <th>2</th>\n",
       "      <td>0</td>\n",
       "      <td>4</td>\n",
       "      <td>8</td>\n",
       "      <td>0</td>\n",
       "      <td>1</td>\n",
       "      <td>1</td>\n",
       "      <td>0</td>\n",
       "      <td>2</td>\n",
       "      <td>3</td>\n",
       "      <td>3</td>\n",
       "      <td>1</td>\n",
       "      <td>0</td>\n",
       "      <td>0</td>\n",
       "      <td>3</td>\n",
       "      <td>0</td>\n",
       "      <td>0</td>\n",
       "      <td>0</td>\n",
       "      <td>1</td>\n",
       "    </tr>\n",
       "    <tr>\n",
       "      <th>3</th>\n",
       "      <td>3</td>\n",
       "      <td>0</td>\n",
       "      <td>5</td>\n",
       "      <td>4</td>\n",
       "      <td>0</td>\n",
       "      <td>0</td>\n",
       "      <td>3</td>\n",
       "      <td>2</td>\n",
       "      <td>0</td>\n",
       "      <td>3</td>\n",
       "      <td>1</td>\n",
       "      <td>0</td>\n",
       "      <td>1</td>\n",
       "      <td>3</td>\n",
       "      <td>1</td>\n",
       "      <td>0</td>\n",
       "      <td>1</td>\n",
       "      <td>1</td>\n",
       "    </tr>\n",
       "    <tr>\n",
       "      <th>4</th>\n",
       "      <td>3</td>\n",
       "      <td>0</td>\n",
       "      <td>5</td>\n",
       "      <td>4</td>\n",
       "      <td>0</td>\n",
       "      <td>2</td>\n",
       "      <td>3</td>\n",
       "      <td>2</td>\n",
       "      <td>3</td>\n",
       "      <td>1</td>\n",
       "      <td>0</td>\n",
       "      <td>2</td>\n",
       "      <td>1</td>\n",
       "      <td>3</td>\n",
       "      <td>0</td>\n",
       "      <td>0</td>\n",
       "      <td>1</td>\n",
       "      <td>1</td>\n",
       "    </tr>\n",
       "  </tbody>\n",
       "</table>\n",
       "</div>"
      ],
      "text/plain": [
       "   status  credit_history  purpose  savings  employment_duration  \\\n",
       "0       3               0        2        4                    2   \n",
       "1       3               0        5        4                    0   \n",
       "2       0               4        8        0                    1   \n",
       "3       3               0        5        4                    0   \n",
       "4       3               0        5        4                    0   \n",
       "\n",
       "   installment_rate  personal_status_sex  other_debtors  present_residence  \\\n",
       "0                 2                    0              2                  3   \n",
       "1                 1                    3              2                  0   \n",
       "2                 1                    0              2                  3   \n",
       "3                 0                    3              2                  0   \n",
       "4                 2                    3              2                  3   \n",
       "\n",
       "   property  other_installment_plans  housing  number_credits  job  \\\n",
       "0         1                        1        0               0    1   \n",
       "1         3                        1        0               1    1   \n",
       "2         3                        1        0               0    3   \n",
       "3         3                        1        0               1    3   \n",
       "4         1                        0        2               1    3   \n",
       "\n",
       "   people_liable  telephone  foreign_worker  credit_risk  \n",
       "0              0          0               0            1  \n",
       "1              1          0               0            1  \n",
       "2              0          0               0            1  \n",
       "3              1          0               1            1  \n",
       "4              0          0               1            1  "
      ]
     },
     "execution_count": 9,
     "metadata": {},
     "output_type": "execute_result"
    }
   ],
   "source": [
    "for x in dataset.columns:\n",
    "    dataset[x] = LabelEncoder().fit_transform(dataset[x])\n",
    "\n",
    "dataset.head()"
   ]
  },
  {
   "cell_type": "code",
   "execution_count": 10,
   "metadata": {},
   "outputs": [
    {
     "data": {
      "text/html": [
       "<div>\n",
       "<style scoped>\n",
       "    .dataframe tbody tr th:only-of-type {\n",
       "        vertical-align: middle;\n",
       "    }\n",
       "\n",
       "    .dataframe tbody tr th {\n",
       "        vertical-align: top;\n",
       "    }\n",
       "\n",
       "    .dataframe thead th {\n",
       "        text-align: right;\n",
       "    }\n",
       "</style>\n",
       "<table border=\"1\" class=\"dataframe\">\n",
       "  <thead>\n",
       "    <tr style=\"text-align: right;\">\n",
       "      <th></th>\n",
       "      <th>duration</th>\n",
       "      <th>amount</th>\n",
       "      <th>age</th>\n",
       "    </tr>\n",
       "  </thead>\n",
       "  <tbody>\n",
       "    <tr>\n",
       "      <th>0</th>\n",
       "      <td>-0.240857</td>\n",
       "      <td>-0.787657</td>\n",
       "      <td>-1.281573</td>\n",
       "    </tr>\n",
       "    <tr>\n",
       "      <th>1</th>\n",
       "      <td>-0.987573</td>\n",
       "      <td>-0.167384</td>\n",
       "      <td>0.040363</td>\n",
       "    </tr>\n",
       "    <tr>\n",
       "      <th>2</th>\n",
       "      <td>-0.738668</td>\n",
       "      <td>-0.861381</td>\n",
       "      <td>-1.105315</td>\n",
       "    </tr>\n",
       "    <tr>\n",
       "      <th>3</th>\n",
       "      <td>-0.738668</td>\n",
       "      <td>-0.407341</td>\n",
       "      <td>0.304750</td>\n",
       "    </tr>\n",
       "    <tr>\n",
       "      <th>4</th>\n",
       "      <td>-0.738668</td>\n",
       "      <td>-0.389974</td>\n",
       "      <td>0.216621</td>\n",
       "    </tr>\n",
       "    <tr>\n",
       "      <th>...</th>\n",
       "      <td>...</td>\n",
       "      <td>...</td>\n",
       "      <td>...</td>\n",
       "    </tr>\n",
       "    <tr>\n",
       "      <th>995</th>\n",
       "      <td>0.256953</td>\n",
       "      <td>-0.455191</td>\n",
       "      <td>-1.281573</td>\n",
       "    </tr>\n",
       "    <tr>\n",
       "      <th>996</th>\n",
       "      <td>0.256953</td>\n",
       "      <td>-0.343187</td>\n",
       "      <td>0.833525</td>\n",
       "    </tr>\n",
       "    <tr>\n",
       "      <th>997</th>\n",
       "      <td>0.008048</td>\n",
       "      <td>3.334852</td>\n",
       "      <td>-0.488411</td>\n",
       "    </tr>\n",
       "    <tr>\n",
       "      <th>998</th>\n",
       "      <td>-0.738668</td>\n",
       "      <td>1.133062</td>\n",
       "      <td>1.450428</td>\n",
       "    </tr>\n",
       "    <tr>\n",
       "      <th>999</th>\n",
       "      <td>0.754763</td>\n",
       "      <td>1.091237</td>\n",
       "      <td>-0.400282</td>\n",
       "    </tr>\n",
       "  </tbody>\n",
       "</table>\n",
       "<p>1000 rows × 3 columns</p>\n",
       "</div>"
      ],
      "text/plain": [
       "     duration    amount       age\n",
       "0   -0.240857 -0.787657 -1.281573\n",
       "1   -0.987573 -0.167384  0.040363\n",
       "2   -0.738668 -0.861381 -1.105315\n",
       "3   -0.738668 -0.407341  0.304750\n",
       "4   -0.738668 -0.389974  0.216621\n",
       "..        ...       ...       ...\n",
       "995  0.256953 -0.455191 -1.281573\n",
       "996  0.256953 -0.343187  0.833525\n",
       "997  0.008048  3.334852 -0.488411\n",
       "998 -0.738668  1.133062  1.450428\n",
       "999  0.754763  1.091237 -0.400282\n",
       "\n",
       "[1000 rows x 3 columns]"
      ]
     },
     "execution_count": 10,
     "metadata": {},
     "output_type": "execute_result"
    }
   ],
   "source": [
    "cols = int_col.columns.tolist()\n",
    "ss = StandardScaler()\n",
    "t = ss.fit_transform(int_col)\n",
    "int_col = pd.DataFrame(t,columns=cols)\n",
    "int_col"
   ]
  },
  {
   "cell_type": "code",
   "execution_count": 11,
   "metadata": {},
   "outputs": [
    {
     "data": {
      "text/html": [
       "<div>\n",
       "<style scoped>\n",
       "    .dataframe tbody tr th:only-of-type {\n",
       "        vertical-align: middle;\n",
       "    }\n",
       "\n",
       "    .dataframe tbody tr th {\n",
       "        vertical-align: top;\n",
       "    }\n",
       "\n",
       "    .dataframe thead th {\n",
       "        text-align: right;\n",
       "    }\n",
       "</style>\n",
       "<table border=\"1\" class=\"dataframe\">\n",
       "  <thead>\n",
       "    <tr style=\"text-align: right;\">\n",
       "      <th></th>\n",
       "      <th>status</th>\n",
       "      <th>credit_history</th>\n",
       "      <th>purpose</th>\n",
       "      <th>savings</th>\n",
       "      <th>employment_duration</th>\n",
       "      <th>installment_rate</th>\n",
       "      <th>personal_status_sex</th>\n",
       "      <th>other_debtors</th>\n",
       "      <th>present_residence</th>\n",
       "      <th>property</th>\n",
       "      <th>...</th>\n",
       "      <th>housing</th>\n",
       "      <th>number_credits</th>\n",
       "      <th>job</th>\n",
       "      <th>people_liable</th>\n",
       "      <th>telephone</th>\n",
       "      <th>foreign_worker</th>\n",
       "      <th>credit_risk</th>\n",
       "      <th>duration</th>\n",
       "      <th>amount</th>\n",
       "      <th>age</th>\n",
       "    </tr>\n",
       "  </thead>\n",
       "  <tbody>\n",
       "    <tr>\n",
       "      <th>0</th>\n",
       "      <td>3</td>\n",
       "      <td>0</td>\n",
       "      <td>2</td>\n",
       "      <td>4</td>\n",
       "      <td>2</td>\n",
       "      <td>2</td>\n",
       "      <td>0</td>\n",
       "      <td>2</td>\n",
       "      <td>3</td>\n",
       "      <td>1</td>\n",
       "      <td>...</td>\n",
       "      <td>0</td>\n",
       "      <td>0</td>\n",
       "      <td>1</td>\n",
       "      <td>0</td>\n",
       "      <td>0</td>\n",
       "      <td>0</td>\n",
       "      <td>1</td>\n",
       "      <td>-0.240857</td>\n",
       "      <td>-0.787657</td>\n",
       "      <td>-1.281573</td>\n",
       "    </tr>\n",
       "    <tr>\n",
       "      <th>1</th>\n",
       "      <td>3</td>\n",
       "      <td>0</td>\n",
       "      <td>5</td>\n",
       "      <td>4</td>\n",
       "      <td>0</td>\n",
       "      <td>1</td>\n",
       "      <td>3</td>\n",
       "      <td>2</td>\n",
       "      <td>0</td>\n",
       "      <td>3</td>\n",
       "      <td>...</td>\n",
       "      <td>0</td>\n",
       "      <td>1</td>\n",
       "      <td>1</td>\n",
       "      <td>1</td>\n",
       "      <td>0</td>\n",
       "      <td>0</td>\n",
       "      <td>1</td>\n",
       "      <td>-0.987573</td>\n",
       "      <td>-0.167384</td>\n",
       "      <td>0.040363</td>\n",
       "    </tr>\n",
       "  </tbody>\n",
       "</table>\n",
       "<p>2 rows × 21 columns</p>\n",
       "</div>"
      ],
      "text/plain": [
       "   status  credit_history  purpose  savings  employment_duration  \\\n",
       "0       3               0        2        4                    2   \n",
       "1       3               0        5        4                    0   \n",
       "\n",
       "   installment_rate  personal_status_sex  other_debtors  present_residence  \\\n",
       "0                 2                    0              2                  3   \n",
       "1                 1                    3              2                  0   \n",
       "\n",
       "   property  ...  housing  number_credits  job  people_liable  telephone  \\\n",
       "0         1  ...        0               0    1              0          0   \n",
       "1         3  ...        0               1    1              1          0   \n",
       "\n",
       "   foreign_worker  credit_risk  duration    amount       age  \n",
       "0               0            1 -0.240857 -0.787657 -1.281573  \n",
       "1               0            1 -0.987573 -0.167384  0.040363  \n",
       "\n",
       "[2 rows x 21 columns]"
      ]
     },
     "execution_count": 11,
     "metadata": {},
     "output_type": "execute_result"
    }
   ],
   "source": [
    "dataset =  dataset.join(int_col)\n",
    "dataset.head(2)\n"
   ]
  },
  {
   "attachments": {},
   "cell_type": "markdown",
   "metadata": {},
   "source": [
    "## Feature Selection"
   ]
  },
  {
   "cell_type": "code",
   "execution_count": 12,
   "metadata": {},
   "outputs": [],
   "source": [
    "feature_x = dataset.drop('credit_risk', axis=1)\n",
    "feature_y = dataset[[\"credit_risk\"]]"
   ]
  },
  {
   "cell_type": "code",
   "execution_count": 13,
   "metadata": {},
   "outputs": [
    {
     "data": {
      "text/plain": [
       "Index(['status', 'credit_history', 'purpose', 'savings', 'employment_duration',\n",
       "       'installment_rate', 'personal_status_sex', 'other_debtors',\n",
       "       'present_residence', 'property', 'other_installment_plans', 'housing',\n",
       "       'number_credits', 'job', 'people_liable', 'telephone', 'foreign_worker',\n",
       "       'duration', 'amount', 'age'],\n",
       "      dtype='object')"
      ]
     },
     "execution_count": 13,
     "metadata": {},
     "output_type": "execute_result"
    }
   ],
   "source": [
    "feature_x.columns"
   ]
  },
  {
   "cell_type": "code",
   "execution_count": 14,
   "metadata": {},
   "outputs": [],
   "source": [
    "from sklearn.feature_selection import SelectKBest\n",
    "from sklearn.feature_selection import f_classif\n",
    "\n",
    "def best_features(X_train,y_train,X_test):\n",
    "    fs = SelectKBest(score_func = f_classif, k=\"all\")\n",
    "    fs.fit(X_train,y_train)\n",
    "    X_train_fs = fs.transform(X_train)\n",
    "    X_test_fs = fs.transform(X_test)\n",
    "    return X_train_fs,X_test_fs,fs"
   ]
  },
  {
   "attachments": {},
   "cell_type": "markdown",
   "metadata": {},
   "source": [
    "ANOVA (Dispersiya analizi) F dəyəri iki və ya daha çox qrup arasındakı orta dəyər fərqini qiymətləndirmək üçün istifadə olunan statistik göstəricidir. Xüsusiyyət seçimi kontekstində ANOVA F dəyəri bir xüsusiyyət və hədəf dəyişən arasındakı əlaqənin statistik əhəmiyyətini təyin etmək üçün istifadə edilə bilər.\n",
    "\n",
    "Selectkbest xüsusiyyət seçmə metodunda istifadə olunan Anova F-dəyər qiymətləndirmə funksiyası, iki nümunənin sapmalarını müqayisə etmək üçün istifadə olunan F-testə əsaslanır. F testi qruplar arasındakı dispersiyanı qruplar Daxilindəki dispersiyaya bölməklə işləyir. Yaranan F dəyəri daha sonra paylayıcı və məxrəc üçün sərbəstlik dərəcələrindən asılı olan F paylama cədvəlindəki kritik dəyərlə müqayisə edilir.\n",
    "\n",
    "Bir xüsusiyyət seçildikdə, ANOVA F dəyəri hədəf dəyişəninin fərqli sinifləri və ya qrupları üçün hər bir xüsusiyyətin ortalamalarındakı fərqi ölçür. Konkret olaraq, qruplar arasındakı dispersiyanın nisbətini (yəni hər qrupun ortalaması ilə ümumi orta arasındakı fərqlərin kvadratlarının cəmini) qruplar Daxilindəki dispersiyaya (yəni hər müşahidə ilə qrup ortalaması arasındakı fərqlərin kvadratlarının cəminə) hesablayır.\n",
    "\n",
    "Beləliklə, ANOVA F dəyəri qruplar arasındakı dispersiyanın qruplar Daxilindəki dispersiyadan daha böyük dərəcəsini ölçür. Daha yüksək F dəyəri obyekt və hədəf dəyişən arasında daha güclü əlaqəni göstərir. SelectKBest metodu daha sonra k -nin ən yüksək qiymətlərini seçir hansılarki F dəyərləri  ən yaxşı Obyektlərdir, burada k istifadəçi tərəfindən göstərilən parametrdir.\n",
    "Ümumiyyətlə, ANOVA F-dəyər qiymətləndirmə funksiyası, hədəf dəyişəninə ən uyğun olan xüsusiyyətlərin əlaqələrinin statistik əhəmiyyətini ölçərək seçilməsi üçün faydalı bir üsuldur."
   ]
  },
  {
   "cell_type": "code",
   "execution_count": 15,
   "metadata": {},
   "outputs": [],
   "source": [
    "X_train,X_test,y_train,y_test = train_test_split(feature_x,feature_y,test_size=0.3,random_state=42)\n",
    "X_train_fs,X_test_fs,fs = best_features(X_train,np.ravel(y_train),X_test) \n",
    "#np.ravel() y_train arrayini bir ölçülü massivə çevirmək üçün istifadə olunur. Bu lazımdır, çünki SelectKBest funksiyası hədəf dəyişəninin 1 dimensional bir sıra olmasını gözləyir."
   ]
  },
  {
   "cell_type": "code",
   "execution_count": 16,
   "metadata": {},
   "outputs": [
    {
     "name": "stdout",
     "output_type": "stream",
     "text": [
      "status: 15.120\n",
      "credit_history: 4.775\n",
      "purpose: 8.964\n",
      "savings: 11.079\n",
      "employment_duration: 0.029\n",
      "installment_rate: 0.954\n",
      "personal_status_sex: 4.764\n",
      "other_debtors: 2.430\n",
      "present_residence: 0.001\n",
      "property: 0.942\n",
      "other_installment_plans: 0.918\n",
      "housing: 4.889\n",
      "number_credits: 2.467\n",
      "job: 1.038\n",
      "people_liable: 0.369\n",
      "telephone: 3.220\n",
      "foreign_worker: 4.643\n",
      "duration: 36.742\n",
      "amount: 15.299\n",
      "age: 5.347\n"
     ]
    },
    {
     "data": {
      "image/png": "[encoded data removed]",
      "text/plain": [
       "<Figure size 640x480 with 1 Axes>"
      ]
     },
     "metadata": {},
     "output_type": "display_data"
    }
   ],
   "source": [
    "for i in range(len(fs.scores_)):\n",
    "    print(f\"{feature_x.columns[i]}: {fs.scores_[i]:.3f}\")\n",
    "    \n",
    "# xalların grafiki\n",
    "plt.bar(feature_x.columns, fs.scores_)\n",
    "plt.xticks(rotation=90)\n",
    "plt.show()\n"
   ]
  },
  {
   "attachments": {},
   "cell_type": "markdown",
   "metadata": {},
   "source": [
    "Model üçün seçilməli olan featurlar xüsusi tapşırıqdan və datanın xüsusiyyətlərindən asılıdır. Ümumiyyətlə, Anova-nın F dəyəri nə qədər yüksəkdirsə, funksiya hədəf dəyişənini proqnozlaşdırmaq üçün daha vacibdir.\n",
    "\n",
    "Aldığımız çıxışa baxdıqda, status, savings, duration və amount funksiyalarının ən yüksək ANOVA F-value ballarına sahib olduğu və hədəf dəyişənini proqnozlaşdırmaq üçün ən vacib funksiyalar ola biləcəyi görünür. Bununla birlikdə, funksiyalar arasındakı konteksti və potensial əlaqələri nəzərə almaq və müəyyən bir problemi həll etmək üçün ən yaxşı funksiyaları təyin etmək üçün daha çox analiz və təcrübə aparmaq vacibdir."
   ]
  },
  {
   "attachments": {},
   "cell_type": "markdown",
   "metadata": {},
   "source": [
    "# Support Vector Machine"
   ]
  },
  {
   "attachments": {},
   "cell_type": "markdown",
   "metadata": {},
   "source": [
    "SMOTE"
   ]
  },
  {
   "cell_type": "code",
   "execution_count": 25,
   "metadata": {},
   "outputs": [],
   "source": [
    "train_x = dataset[['status', 'credit_history', 'purpose', 'savings','personal_status_sex',\n",
    "              'property', 'housing','job','foreign_worker','duration','amount']]\n",
    "train_y = dataset[[\"credit_risk\"]]"
   ]
  },
  {
   "cell_type": "code",
   "execution_count": 26,
   "metadata": {},
   "outputs": [],
   "source": [
    "X_train,X_test,y_train,y_test =train_test_split(train_x,train_y,test_size=0.3,random_state=42)"
   ]
  },
  {
   "cell_type": "code",
   "execution_count": 27,
   "metadata": {},
   "outputs": [],
   "source": [
    "from imblearn.over_sampling import SMOTE\n",
    "smote = SMOTE()"
   ]
  },
  {
   "cell_type": "code",
   "execution_count": 28,
   "metadata": {},
   "outputs": [],
   "source": [
    "X_train_smote,y_train_smote = smote.fit_resample(train_x,train_y)"
   ]
  },
  {
   "cell_type": "code",
   "execution_count": 29,
   "metadata": {},
   "outputs": [
    {
     "name": "stdout",
     "output_type": "stream",
     "text": [
      "Before SMOTE:  1    700\n",
      "0    300\n",
      "Name: credit_risk, dtype: int64\n"
     ]
    }
   ],
   "source": [
    "print(\"Before SMOTE: \", train_y[\"credit_risk\"].value_counts())"
   ]
  },
  {
   "cell_type": "code",
   "execution_count": 30,
   "metadata": {},
   "outputs": [
    {
     "name": "stdout",
     "output_type": "stream",
     "text": [
      "After SMOTE:  1    700\n",
      "0    700\n",
      "Name: credit_risk, dtype: int64\n"
     ]
    }
   ],
   "source": [
    "print(\"After SMOTE: \", y_train_smote[\"credit_risk\"].value_counts())"
   ]
  },
  {
   "cell_type": "code",
   "execution_count": 31,
   "metadata": {},
   "outputs": [
    {
     "data": {
      "text/plain": [
       "SVC(degree=10, kernel='poly')"
      ]
     },
     "execution_count": 31,
     "metadata": {},
     "output_type": "execute_result"
    }
   ],
   "source": [
    "svclassifier = SVC(kernel=\"poly\",degree=10)\n",
    "svclassifier.fit(X_train_smote,np.ravel(y_train_smote))"
   ]
  },
  {
   "cell_type": "code",
   "execution_count": 32,
   "metadata": {},
   "outputs": [
    {
     "name": "stdout",
     "output_type": "stream",
     "text": [
      "              precision    recall  f1-score   support\n",
      "\n",
      "           0       0.94      0.84      0.89        92\n",
      "           1       0.93      0.98      0.95       208\n",
      "\n",
      "    accuracy                           0.93       300\n",
      "   macro avg       0.94      0.91      0.92       300\n",
      "weighted avg       0.93      0.93      0.93       300\n",
      "\n"
     ]
    }
   ],
   "source": [
    "yhat_svm = svclassifier.predict(X_test)\n",
    "print(classification_report(y_test, yhat_svm))"
   ]
  },
  {
   "cell_type": "code",
   "execution_count": null,
   "metadata": {},
   "outputs": [],
   "source": []
  }
 ],
 "metadata": {
  "kernelspec": {
   "display_name": "base",
   "language": "python",
   "name": "python3"
  },
  "language_info": {
   "codemirror_mode": {
    "name": "ipython",
    "version": 3
   },
   "file_extension": ".py",
   "mimetype": "text/x-python",
   "name": "python",
   "nbconvert_exporter": "python",
   "pygments_lexer": "ipython3",
   "version": "3.9.16"
  },
  "orig_nbformat": 4
 },
 "nbformat": 4,
 "nbformat_minor": 2
}
